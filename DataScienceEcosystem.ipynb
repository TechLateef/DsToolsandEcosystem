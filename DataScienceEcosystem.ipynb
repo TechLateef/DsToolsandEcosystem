{
  "nbformat": 4,
  "nbformat_minor": 0,
  "metadata": {
    "colab": {
      "provenance": [],
      "toc_visible": true,
      "authorship_tag": "ABX9TyMFVq8hEBJ5FYaX8fr2BYkb",
      "include_colab_link": true
    },
    "kernelspec": {
      "name": "python3",
      "display_name": "Python 3"
    },
    "language_info": {
      "name": "python"
    }
  },
  "cells": [
    {
      "cell_type": "markdown",
      "metadata": {
        "id": "view-in-github",
        "colab_type": "text"
      },
      "source": [
        "<a href=\"https://colab.research.google.com/github/TechLateef/DsToolsandEcosystem/blob/main/DataScienceEcosystem.ipynb\" target=\"_parent\"><img src=\"https://colab.research.google.com/assets/colab-badge.svg\" alt=\"Open In Colab\"/></a>"
      ]
    },
    {
      "cell_type": "markdown",
      "source": [
        "<center>\n",
        "    <img src=\"https://cf-courses-data.s3.us.cloud-object-storage.appdomain.cloud/IBMDeveloperSkillsNetwork-DS0105EN-SkillsNetwork/labs/Module2/images/SN_web_lightmode.png\" width=\"300\" alt=\"cognitiveclass.ai logo\">\n",
        "</center>"
      ],
      "metadata": {
        "id": "HsrXEbpOhiLz"
      }
    },
    {
      "cell_type": "markdown",
      "source": [
        "# Data Science Tools and Ecosystem"
      ],
      "metadata": {
        "id": "SkDsfP3ALK64"
      }
    },
    {
      "cell_type": "markdown",
      "source": [
        "### In this notebook, Data Science Tools and Ecosystem are summarized."
      ],
      "metadata": {
        "id": "GwsUe-_PLxAk"
      }
    },
    {
      "cell_type": "markdown",
      "source": [
        "# **Objectives**\n",
        "\n",
        "* List commonly use libraries use by Data Scientist\n",
        "* List popular Languages use by Data Scientist\n",
        "+ examples of evaluating arithmetic expressions in Python"
      ],
      "metadata": {
        "id": "A3omCe_lXF8I"
      }
    },
    {
      "cell_type": "markdown",
      "source": [
        "### Some of the popular languages that Data Scientists use are:\n",
        "1. Python\n",
        "2. R\n",
        "3. SQL"
      ],
      "metadata": {
        "id": "Z3o2CPLmRXsX"
      }
    },
    {
      "cell_type": "markdown",
      "source": [
        "### Some of the commonly used libraries used by Data Scientists include:\n",
        "\n",
        "1. Pandas\n",
        "2. Numpy\n",
        "3. Matplotlib"
      ],
      "metadata": {
        "id": "W31kV34HR1lw"
      }
    },
    {
      "cell_type": "markdown",
      "source": [
        "| Data Science Tools |\n",
        "----------------------\n",
        "|Jupyter Notebook|\n",
        "| RStudio |\n",
        "|Apache Spark|"
      ],
      "metadata": {
        "id": "PYs0ixUYSvB-"
      }
    },
    {
      "cell_type": "markdown",
      "source": [
        "### Below are a few examples of evaluating arithmetic expressions in Python"
      ],
      "metadata": {
        "id": "rv1OSNVbVPCR"
      }
    },
    {
      "cell_type": "code",
      "source": [
        "#This a simple arithmetic expression to mutiply then add integers\n",
        "(3*4)+5"
      ],
      "metadata": {
        "colab": {
          "base_uri": "https://localhost:8080/"
        },
        "id": "5RXYiAA6L40V",
        "outputId": "ccfddd23-4673-4931-9234-389e41520c4d"
      },
      "execution_count": null,
      "outputs": [
        {
          "output_type": "execute_result",
          "data": {
            "text/plain": [
              "17"
            ]
          },
          "metadata": {},
          "execution_count": 1
        }
      ]
    },
    {
      "cell_type": "code",
      "source": [
        "#This will convert 200 minutes to hours by diving by 60\n",
        "200/  60"
      ],
      "metadata": {
        "colab": {
          "base_uri": "https://localhost:8080/"
        },
        "id": "ciGjVlmrV1y2",
        "outputId": "a35e7503-6644-45a3-ce78-9a3a9f734e6c"
      },
      "execution_count": null,
      "outputs": [
        {
          "output_type": "execute_result",
          "data": {
            "text/plain": [
              "3.3333333333333335"
            ]
          },
          "metadata": {},
          "execution_count": 2
        }
      ]
    },
    {
      "cell_type": "markdown",
      "source": [
        "## Author\n",
        "\n",
        "[Abdullateef Mubarak](https://www.linkedin.com/in/mubarak-abdullateef-b8669b244/)"
      ],
      "metadata": {
        "id": "m8o3CRxOYTbP"
      }
    },
    {
      "cell_type": "code",
      "source": [],
      "metadata": {
        "id": "CHkqaSAyWS2_"
      },
      "execution_count": null,
      "outputs": []
    }
  ]
}